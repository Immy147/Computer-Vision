{
 "cells": [
  {
   "cell_type": "code",
   "execution_count": null,
   "metadata": {},
   "outputs": [],
   "source": [
    "#importing libraries\n",
    "\n",
    "import cv2\n",
    "import matplotlib.pyplot as plt\n",
    "\n",
    "#Read videos\n",
    "\n",
    "cap = cv2.VideoCapture(0)\n",
    "\n",
    "while True:\n",
    "    #capture frame by frame\n",
    "    ret, frame= cap.read()\n",
    "\n",
    "    #display the resultant frame\n",
    "    cv2.imshow('video', frame)\n",
    "\n",
    "    #break the loop on q\n",
    "    if cv2.waitKey(1) & 0*FF == ord('q'):\n",
    "           break\n",
    "    \n",
    "\n",
    "    cap.release()\n",
    "\n",
    "    #destroy frames \n",
    "    cv2.destroyAllWindows()"
   ]
  }
 ],
 "metadata": {
  "language_info": {
   "name": "python"
  },
  "orig_nbformat": 4
 },
 "nbformat": 4,
 "nbformat_minor": 2
}
